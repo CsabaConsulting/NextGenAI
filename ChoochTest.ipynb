{
 "cells": [
  {
   "cell_type": "code",
   "execution_count": 170,
   "id": "1c54709a-fc23-490b-90d4-4ca2aa5f2f19",
   "metadata": {
    "tags": []
   },
   "outputs": [],
   "source": [
    "import json\n",
    "import os\n",
    "import requests\n",
    "\n",
    "def image_chat_predict(model_id, parameters, image_file_name, api_key):\n",
    "    parameters = {\"parameters\": parameters, \"model_id\": model_id}\n",
    "    parameters_json =  json.dumps(parameters)\n",
    "    \n",
    "    payload = {'data': parameters_json }\n",
    "\n",
    "    host_name = \"https://chat-api.chooch.ai\"\n",
    "    url = \"{}/predict?api_key={}\".format(host_name, api_key)\n",
    "    #-- url = \"{}/predict_image_chat?api_key={}\".format(host_name, api_key)\n",
    "    # load file and post\n",
    "    file = {'file': open(image_file_name, 'rb')}\n",
    "    response = requests.post(url, data=payload, files=file)\n",
    "    json_data = json.loads(response.content)\n",
    "    return json_data"
   ]
  },
  {
   "cell_type": "code",
   "execution_count": 171,
   "id": "08772a3c-7de0-4164-abba-05d7bd9ff794",
   "metadata": {
    "tags": []
   },
   "outputs": [
    {
     "name": "stdout",
     "output_type": "stream",
     "text": [
      "{'model_title': 'Chooch-ImageChat-3', 'model_id': 'Chooch-ImageChat-3', 'prediction': 'The image depicts a scenic view of the Eiffel Tower in Paris, France. The tower stands tall and proud, surrounded by lush green trees and a fountain. The sky is overcast with dark clouds, giving the scene a dramatic and moody atmosphere. People can be seen walking around the area, enjoying the beauty of the iconic landmark.', 'prediction_type': 'Chooch-ImageChat-3-Image', 'prompt': 'Describe the content of the image in great detail', 'source_id': 'd7cdecc6-8f07-4cce-b1bc-54b4386d2d03.jpg', 'source_type': 'image', 'status': 'Successful Prediction'}\n"
     ]
    }
   ],
   "source": [
    "# Chooch ImageChat-3 model_id\n",
    "model_id_image_chat = \"chooch-image-chat-3\"\n",
    "\n",
    "image_file_name = \"pexels-soly-moses-5897400.jpg\"\n",
    "\n",
    "parameters = {}\n",
    "\n",
    "# default is True. If a prompt is given only 1 class will be returned and deep_detection will be turned off\n",
    "parameters[\"deep_inference\"] = True\n",
    "\n",
    "parameters[\"prompt\"] = \"Describe the content of the image in great detail\"\n",
    "# parameters[\"max_new_tokens\"] = 512\n",
    "\n",
    "# replace with your own api key\n",
    "chooch_api_key = os.getenv(\"CHOOCH_API_KEY\") or \"CHOOCH_API_KEY\"\n",
    "\n",
    "return_val = image_chat_predict(model_id_image_chat, parameters, image_file_name, chooch_api_key)\n",
    "print(return_val)"
   ]
  }
 ],
 "metadata": {
  "kernelspec": {
   "display_name": "Python 3 (ipykernel)",
   "language": "python",
   "name": "python3"
  },
  "language_info": {
   "codemirror_mode": {
    "name": "ipython",
    "version": 3
   },
   "file_extension": ".py",
   "mimetype": "text/x-python",
   "name": "python",
   "nbconvert_exporter": "python",
   "pygments_lexer": "ipython3",
   "version": "3.9.13"
  }
 },
 "nbformat": 4,
 "nbformat_minor": 5
}
