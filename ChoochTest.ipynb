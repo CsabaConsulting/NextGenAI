{
 "cells": [
  {
   "cell_type": "code",
   "execution_count": 2,
   "id": "585e9d18-cd3e-49f3-ab11-28af1714a264",
   "metadata": {
    "tags": []
   },
   "outputs": [],
   "source": [
    "import os"
   ]
  },
  {
   "cell_type": "code",
   "execution_count": 3,
   "id": "1c54709a-fc23-490b-90d4-4ca2aa5f2f19",
   "metadata": {
    "tags": []
   },
   "outputs": [],
   "source": [
    "import base64\n",
    "import json \n",
    "import requests\n",
    "from io import BytesIO\n",
    "from base64 import b64encode\n",
    "import urllib.request\n",
    "\n",
    "\n",
    "def predict_api(model_id, image_file, api_key=None, parameters=None):\n",
    "    ENCODING = \"utf-8\"\n",
    "    # 1. Reading the binary stuff\n",
    "    # note the 'rb' flag\n",
    "    # result: Bytes\n",
    "    IMAGE_NAME = image_file\n",
    "\n",
    "    with open(IMAGE_NAME, \"rb\") as open_file:\n",
    "        byte_content = open_file.read()\n",
    "\n",
    "    # 2. Base64 encode read data\n",
    "    # result: bytes (again)\n",
    "    base64_bytes = b64encode(byte_content)\n",
    "\n",
    "    # 3. Decode these bytes to text\n",
    "    # result: string (in utf-8)\n",
    "    base64_string = base64_bytes.decode(ENCODING)\n",
    "\n",
    "    payload = {\n",
    "        \"base64str\": base64_string,\n",
    "        \"model_id\": model_id,\n",
    "        \"parameters\": parameters,\n",
    "    }\n",
    "\n",
    "    url = \"https://apiv2.chooch.ai/predict?api_key={}\".format(api_key)\n",
    "    response = requests.put(url, data=json.dumps(payload))\n",
    "    json_data = json.loads(response.content)\n",
    "    return json_data"
   ]
  },
  {
   "cell_type": "code",
   "execution_count": 6,
   "id": "08772a3c-7de0-4164-abba-05d7bd9ff794",
   "metadata": {
    "tags": []
   },
   "outputs": [
    {
     "name": "stdout",
     "output_type": "stream",
     "text": [
      "{'model_id': 'ad420c2a-d565-48eb-b963-a8297a0e4000', 'model_title': 'Chooch-ImageChat-1', 'predictions': [{'class_title': 'the eiffel tower under a cloudy sky', 'score': 0.999, 'coordinates': {'xmin': 0, 'ymin': 0, 'xmax': 4912, 'ymax': 3264}, 'class_type': 'keyword', 'class_index': 0, 'prompt': 'Describe the content of the image in great detail', 'prediction_keywords': ['cloudy sky', 'eiffel tower']}], 'prediction_keywords': ['cloudy sky', 'eiffel tower'], 'model_type': 'Chooch-ImageChat-1', 'prompt': 'Question: Describe the content of the image in great detail. Answer:', 'prediction_type': 'Chooch-ImageChat-1', 'image_width': 3264, 'image_height': 4912, 'image_id': 'efb68b5a-d6bf-43b6-a05a-507aacec7dd8.jpg'}\n"
     ]
    }
   ],
   "source": [
    "# Chooch ImageChat-3 model_id\n",
    "model_id_image_chat_pt = \"ad420c2a-d565-48eb-b963-a8297a0e4000\"\n",
    "\n",
    "# download file\n",
    "# image_file_url = \"\"\n",
    "\n",
    "image_file = \"pexels-soly-moses-5897400.jpg\"\n",
    "# urllib.request.urlretrieve(image_file_url, \"test_image.jpg\")\n",
    "\n",
    "parameters = {}\n",
    "\n",
    "# default is True. If a prompt is given only 1 class will be returned and deep_detection will be turned off\n",
    "parameters[\"deep_inference\"] = True\n",
    "\n",
    "parameters[\"prompt\"] = \"Describe the content of the image in great detail\"\n",
    "\n",
    "# # Adding workflow, this is optional.  It will apply the prompt to given objected model predictions as well\n",
    "# smoke_fire_object_detection_model_id = \"1b626ec2-69e5-44b8-9cec-587c87fa8b0f\"\n",
    "# parameters[\"workflow_model_id\"] = smoke_fire_object_detection_model_id\n",
    "\n",
    "# parameters[\"workflow_padding\"] = 0.6\n",
    "# parameters[\"workflow_conf_thresh\"] = 0.3\n",
    "# parameters[\"workflow_nms_thresh\"] = 0.45\n",
    "\n",
    "# replace with your own api key\n",
    "chooch_api_key = os.getenv(\"CHOOCH_API_KEY\") or \"CHOOCH_API_KEY\"\n",
    "\n",
    "return_val = predict_api(\n",
    "    model_id_image_chat_pt, image_file, api_key=chooch_api_key, parameters=parameters\n",
    ")\n",
    "\n",
    "print(return_val)"
   ]
  }
 ],
 "metadata": {
  "kernelspec": {
   "display_name": "Python 3 (ipykernel)",
   "language": "python",
   "name": "python3"
  },
  "language_info": {
   "codemirror_mode": {
    "name": "ipython",
    "version": 3
   },
   "file_extension": ".py",
   "mimetype": "text/x-python",
   "name": "python",
   "nbconvert_exporter": "python",
   "pygments_lexer": "ipython3",
   "version": "3.9.13"
  }
 },
 "nbformat": 4,
 "nbformat_minor": 5
}
