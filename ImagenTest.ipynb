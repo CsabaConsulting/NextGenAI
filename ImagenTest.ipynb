{
 "cells": [
  {
   "cell_type": "markdown",
   "id": "7f55c78c-6cf8-405f-b606-ca2591e8af92",
   "metadata": {},
   "source": [
    "Don't forget to enable \"AI Platform Training & Prediction API\" API: https://console.cloud.google.com/apis/api/ml.googleapis.com/metrics?project=YOUR-PROJECT-ID"
   ]
  },
  {
   "cell_type": "markdown",
   "id": "0e1225c1-7259-4d6c-a2f9-40bb4fd263bf",
   "metadata": {},
   "source": [
    "Obtaining OAuth 2 Token for a non interactive use: https://saturncloud.io/blog/authenticate-to-google-container-service-with-script-noninteractive-gcloud-auth-login/"
   ]
  },
  {
   "cell_type": "markdown",
   "id": "c76e71ee-f34c-4eed-a7ea-bd6f9532baf9",
   "metadata": {
    "tags": []
   },
   "source": [
    "Execute these in a shell:\n",
    "1. Authenticate to GCS: `gcloud auth login --brief --quiet`\n",
    "2. Retrieve refresh token: `REFRESH_TOKEN=$(gcloud auth print-access-token)`\n",
    "3. Activate refresh token: `gcloud auth activate-refresh-token $REFRESH_TOKEN`"
   ]
  },
  {
   "cell_type": "code",
   "execution_count": 13,
   "id": "61f2c005-c185-4b7d-a368-28d4ec85598f",
   "metadata": {
    "tags": []
   },
   "outputs": [],
   "source": [
    "import os\n",
    "import base64\n",
    "import requests\n",
    "from io import BytesIO\n",
    "from base64 import b64encode\n",
    "import urllib.request\n",
    "\n",
    "def predict_api(image_file, bearer_token, parameters=None):\n",
    "    ENCODING = \"utf-8\"\n",
    "    # 1. Reading the binary stuff\n",
    "    # note the 'rb' flag\n",
    "    # result: Bytes\n",
    "    IMAGE_NAME = image_file\n",
    "\n",
    "    with open(IMAGE_NAME, \"rb\") as open_file:\n",
    "        byte_content = open_file.read()\n",
    "\n",
    "    # 2. Base64 encode read data\n",
    "    # result: bytes (again)\n",
    "    base64_bytes = b64encode(byte_content)\n",
    "\n",
    "    # 3. Decode these bytes to text\n",
    "    # result: string (in utf-8)\n",
    "    base64_string = base64_bytes.decode(ENCODING)\n",
    "\n",
    "    VQA_PROMPT = \"Describe the content of the image in great detail\"\n",
    "\n",
    "    payload = {\n",
    "      \"instances\": [\n",
    "        {\n",
    "          \"prompt\": VQA_PROMPT,\n",
    "          \"image\": {\n",
    "              \"bytesBase64Encoded\": base64_string\n",
    "          }\n",
    "        }\n",
    "      ],\n",
    "      \"parameters\": parameters\n",
    "    }\n",
    "\n",
    "    url = \"https://us-central1-aiplatform.googleapis.com/v1/projects/gdg-demos/locations/us-central1/publishers/google/models/imagetext:predict\"\n",
    "    headers = {\n",
    "        \"Authorization\": \"Bearer {}\".format(bearer_token),\n",
    "        \"Accept\": \"application/json; charset=utf-8\",\n",
    "    }\n",
    "    json_data = requests.post(url, headers=headers, json=payload) #, verify=False)\n",
    "    return json_data"
   ]
  },
  {
   "cell_type": "code",
   "execution_count": 22,
   "id": "0386fe22-7d88-442b-8220-3d380bca3864",
   "metadata": {
    "tags": []
   },
   "outputs": [
    {
     "name": "stdout",
     "output_type": "stream",
     "text": [
      "<Response [403]>\n"
     ]
    }
   ],
   "source": [
    "# download file\n",
    "# image_file_url = \"\"\n",
    "\n",
    "image_file = \"pexels-soly-moses-5897400.jpg\"\n",
    "# urllib.request.urlretrieve(image_file_url, \"test_image.jpg\")\n",
    "\n",
    "RESPONSE_COUNT = 1\n",
    "\n",
    "parameters = {\n",
    "    \"sampleCount\": RESPONSE_COUNT\n",
    "}\n",
    "\n",
    "# Replace with your own token:\n",
    "# Execute `gcloud auth print-access-token` in a cloud shell to get the Authorization Bearer token\n",
    "gcp_bearer_token = os.getenv(\"GCP_BEARER_TOKEN\") or \"GCP_BEARER_TOKEN\"\n",
    "return_val = predict_api(image_file, gcp_bearer_token, parameters=parameters)\n",
    "print(return_val.content)"
   ]
  }
 ],
 "metadata": {
  "kernelspec": {
   "display_name": "Python 3 (ipykernel)",
   "language": "python",
   "name": "python3"
  },
  "language_info": {
   "codemirror_mode": {
    "name": "ipython",
    "version": 3
   },
   "file_extension": ".py",
   "mimetype": "text/x-python",
   "name": "python",
   "nbconvert_exporter": "python",
   "pygments_lexer": "ipython3",
   "version": "3.9.13"
  }
 },
 "nbformat": 4,
 "nbformat_minor": 5
}
