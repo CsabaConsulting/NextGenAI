{
 "cells": [
  {
   "cell_type": "markdown",
   "id": "7f55c78c-6cf8-405f-b606-ca2591e8af92",
   "metadata": {},
   "source": [
    "1. Don't forget to enable \"AI Platform Training & Prediction API\" API: https://console.cloud.google.com/apis/api/ml.googleapis.com/metrics?project=YOUR-PROJECT-ID\n",
    "2. Example code from: https://cloud.google.com/vertex-ai/docs/generative-ai/image/visual-question-answering#-python\n",
    "3. Install VertexAI Python package: https://cloud.google.com/vertex-ai/docs/start/install-sdk#install-python-sdk\n",
    "4. Setting up Default credential requires `gcloud auth application-default login` (https://cloud.google.com/docs/authentication/external/set-up-adc)\n",
    "5. Server possibly side requires service account: https://cloud.google.com/docs/authentication#auth-decision-tree and https://cloud.google.com/docs/authentication/application-default-credentials\n",
    "5. Set up quota project with `gcloud auth application-default set-quota-project PROJECT_ID` (https://cloud.google.com/docs/authentication/troubleshoot-adc#user-creds-client-based)"
   ]
  },
  {
   "cell_type": "code",
   "execution_count": 4,
   "id": "12331a58-e3e7-4685-bbc2-4c9e20096811",
   "metadata": {
    "tags": []
   },
   "outputs": [
    {
     "name": "stdout",
     "output_type": "stream",
     "text": [
      "['eiffel tower', 'eiffel tower fountains', 'eiffel tower fountain']\n"
     ]
    }
   ],
   "source": [
    "import vertexai\n",
    "from vertexai.vision_models import ImageQnAModel, ImageTextModel, Image\n",
    "\n",
    "PROJECT_ID = \"gdg-demos\"\n",
    "LOCATION = \"us-central1\"\n",
    "\n",
    "vertexai.init(project=PROJECT_ID, location=LOCATION)\n",
    "# model = ImageTextModel.from_pretrained(\"imagetext@001\")\n",
    "model = ImageQnAModel.from_pretrained(\"imagetext@001\")\n",
    "\n",
    "image_file_name = \"pexels-soly-moses-5897400.jpg\"\n",
    "source_image = Image.load_from_file(location=\"./{}\".format(image_file_name))\n",
    "\n",
    "answers = model.ask_question(\n",
    "    image=source_image,\n",
    "    question=\"Describe what is on the photo in great detail, be very verbose\",\n",
    "    number_of_results=3,\n",
    ")\n",
    "print(answers)"
   ]
  }
 ],
 "metadata": {
  "kernelspec": {
   "display_name": "Python 3 (ipykernel)",
   "language": "python",
   "name": "python3"
  },
  "language_info": {
   "codemirror_mode": {
    "name": "ipython",
    "version": 3
   },
   "file_extension": ".py",
   "mimetype": "text/x-python",
   "name": "python",
   "nbconvert_exporter": "python",
   "pygments_lexer": "ipython3",
   "version": "3.9.13"
  }
 },
 "nbformat": 4,
 "nbformat_minor": 5
}
