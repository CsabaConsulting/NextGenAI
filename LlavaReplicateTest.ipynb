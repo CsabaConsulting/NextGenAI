{
 "cells": [
  {
   "cell_type": "markdown",
   "id": "7f55c78c-6cf8-405f-b606-ca2591e8af92",
   "metadata": {},
   "source": [
    "See API tab on https://replicate.com/yorickvp/llava-13b/api"
   ]
  },
  {
   "cell_type": "code",
   "execution_count": 1,
   "id": "12331a58-e3e7-4685-bbc2-4c9e20096811",
   "metadata": {
    "tags": []
   },
   "outputs": [
    {
     "name": "stdout",
     "output_type": "stream",
     "text": [
      "The image features a bustling city scene with a large, iconic tower dominating the skyline. The tower is the Eiffel Tower, a famous landmark in Paris, France. The tower stands tall and proud, reaching high into the sky.\n",
      "\n",
      "The city is filled with people walking around, enjoying the day and the beautiful surroundings. There are numerous individuals scattered throughout the scene, some closer to the foreground and others further in the background.\n",
      "\n",
      "In addition to the people, there are several cars parked or driving around the area, adding to the busy atmosphere of the city. The combination of the Eiffel Tower, the people, and the cars creates a lively and vibrant urban environment."
     ]
    }
   ],
   "source": [
    "import replicate\n",
    "output = replicate.run(\n",
    "    \"yorickvp/llava-13b:2facb4a474a0462c15041b78b1ad70952ea46b5ec6ad29583c0b29dbd4249591\",\n",
    "    input=dict(\n",
    "        image=open(\"eiffel_tower_336.jpg\", \"rb\"),\n",
    "        prompt=\"Describe what is on the photo in great detail, be very verbose\"\n",
    "    )\n",
    ")\n",
    "# The yorickvp/llava-13b model can stream output as it's running.\n",
    "# The predict method returns an iterator, and you can iterate over that output.\n",
    "for item in output:\n",
    "    # https://replicate.com/yorickvp/llava-13b/versions/2facb4a474a0462c15041b78b1ad70952ea46b5ec6ad29583c0b29dbd4249591/api#output-schema\n",
    "    print(item, end=\"\")"
   ]
  }
 ],
 "metadata": {
  "kernelspec": {
   "display_name": "Python 3 (ipykernel)",
   "language": "python",
   "name": "python3"
  },
  "language_info": {
   "codemirror_mode": {
    "name": "ipython",
    "version": 3
   },
   "file_extension": ".py",
   "mimetype": "text/x-python",
   "name": "python",
   "nbconvert_exporter": "python",
   "pygments_lexer": "ipython3",
   "version": "3.9.13"
  }
 },
 "nbformat": 4,
 "nbformat_minor": 5
}
